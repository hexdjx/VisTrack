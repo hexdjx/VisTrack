{
 "cells": [
  {
   "cell_type": "code",
   "execution_count": 1,
   "id": "4650cda7",
   "metadata": {},
   "outputs": [
    {
     "name": "stderr",
     "output_type": "stream",
     "text": [
      "D:\\anaconda3\\envs\\pytracking\\lib\\site-packages\\tqdm\\auto.py:22: TqdmWarning: IProgress not found. Please update jupyter and ipywidgets. See https://ipywidgets.readthedocs.io/en/stable/user_install.html\n",
      "  from .autonotebook import tqdm as notebook_tqdm\n"
     ]
    }
   ],
   "source": [
    "import torch\n",
    "import torch.nn as nn\n",
    "import torch.utils.data as Data\n",
    "import torchvision\n",
    "import matplotlib.pyplot as plt\n",
    "import os\n",
    "import cv2"
   ]
  },
  {
   "cell_type": "code",
   "execution_count": 2,
   "id": "38902265",
   "metadata": {},
   "outputs": [],
   "source": [
    "torch.manual_seed(1)  # 使用随机化种子使神经网络的初始化每次都相同\n",
    "\n",
    "# 超参数\n",
    "EPOCH = 1  # 训练整批数据的次数\n",
    "BATCH_SIZE = 32 # 10 20 30, 8 16 32 64 \n",
    "LR = 0.001  # 学习率"
   ]
  },
  {
   "cell_type": "code",
   "execution_count": 3,
   "id": "9401a8a3",
   "metadata": {},
   "outputs": [
    {
     "name": "stdout",
     "output_type": "stream",
     "text": [
      "Downloading http://yann.lecun.com/exdb/mnist/train-images-idx3-ubyte.gz to ./data/MNIST\\raw\\train-images-idx3-ubyte.gz\n"
     ]
    },
    {
     "name": "stderr",
     "output_type": "stream",
     "text": [
      "9920512it [00:25, 386733.22it/s]                                                                                       \n"
     ]
    },
    {
     "name": "stdout",
     "output_type": "stream",
     "text": [
      "Extracting ./data/MNIST\\raw\\train-images-idx3-ubyte.gz to ./data/MNIST\\raw\n",
      "Downloading http://yann.lecun.com/exdb/mnist/train-labels-idx1-ubyte.gz to ./data/MNIST\\raw\\train-labels-idx1-ubyte.gz\n"
     ]
    },
    {
     "name": "stderr",
     "output_type": "stream",
     "text": [
      "32768it [00:21, 1515.32it/s]                                                                                           \n"
     ]
    },
    {
     "name": "stdout",
     "output_type": "stream",
     "text": [
      "Extracting ./data/MNIST\\raw\\train-labels-idx1-ubyte.gz to ./data/MNIST\\raw\n",
      "Downloading http://yann.lecun.com/exdb/mnist/t10k-images-idx3-ubyte.gz to ./data/MNIST\\raw\\t10k-images-idx3-ubyte.gz\n"
     ]
    },
    {
     "name": "stderr",
     "output_type": "stream",
     "text": [
      "1654784it [00:23, 71530.41it/s]                                                                                        \n"
     ]
    },
    {
     "name": "stdout",
     "output_type": "stream",
     "text": [
      "Extracting ./data/MNIST\\raw\\t10k-images-idx3-ubyte.gz to ./data/MNIST\\raw\n",
      "Downloading http://yann.lecun.com/exdb/mnist/t10k-labels-idx1-ubyte.gz to ./data/MNIST\\raw\\t10k-labels-idx1-ubyte.gz\n"
     ]
    },
    {
     "name": "stderr",
     "output_type": "stream",
     "text": [
      "8192it [00:21, 377.53it/s]                                                                                             \n",
      "D:\\anaconda3\\envs\\pytracking\\lib\\site-packages\\torchvision\\datasets\\mnist.py:469: UserWarning: The given NumPy array is not writeable, and PyTorch does not support non-writeable tensors. This means you can write to the underlying (supposedly non-writeable) NumPy array using the tensor. You may want to copy the array to protect its data or make it writeable before converting it to a tensor. This type of warning will be suppressed for the rest of this program. (Triggered internally at  ..\\torch\\csrc\\utils\\tensor_numpy.cpp:141.)\n",
      "  return torch.from_numpy(parsed.astype(m[2], copy=False)).view(*s)\n"
     ]
    },
    {
     "name": "stdout",
     "output_type": "stream",
     "text": [
      "Extracting ./data/MNIST\\raw\\t10k-labels-idx1-ubyte.gz to ./data/MNIST\\raw\n",
      "Processing...\n",
      "Done!\n"
     ]
    }
   ],
   "source": [
    "# 下载mnist手写数据集\n",
    "train_data = torchvision.datasets.MNIST(\n",
    "    root='./data/',  # 保存或提取的位置  会放在当前文件夹中\n",
    "    train=True,  # true说明是用于训练的数据，false说明是用于测试的数据\n",
    "    transform=torchvision.transforms.ToTensor(),  # 转换PIL.Image or numpy.ndarray\n",
    "    download=True,\n",
    ")"
   ]
  },
  {
   "cell_type": "code",
   "execution_count": 4,
   "id": "59cedccf",
   "metadata": {},
   "outputs": [
    {
     "name": "stdout",
     "output_type": "stream",
     "text": [
      "Dataset MNIST\n",
      "    Number of datapoints: 60000\n",
      "    Root location: ./data/\n",
      "    Split: Train\n",
      "    StandardTransform\n",
      "Transform: ToTensor()\n"
     ]
    }
   ],
   "source": [
    "print(train_data)"
   ]
  },
  {
   "cell_type": "code",
   "execution_count": 6,
   "id": "2e698e07",
   "metadata": {},
   "outputs": [],
   "source": [
    "test_data = torchvision.datasets.MNIST(\n",
    "    root='./data/',\n",
    "    train=False  # 表明是测试集\n",
    ")"
   ]
  },
  {
   "cell_type": "code",
   "execution_count": 7,
   "id": "6a81fb3e",
   "metadata": {},
   "outputs": [
    {
     "name": "stdout",
     "output_type": "stream",
     "text": [
      "Dataset MNIST\n",
      "    Number of datapoints: 10000\n",
      "    Root location: ./data/\n",
      "    Split: Test\n"
     ]
    }
   ],
   "source": [
    "print(test_data)"
   ]
  },
  {
   "cell_type": "code",
   "execution_count": 8,
   "id": "2ec39769",
   "metadata": {},
   "outputs": [
    {
     "name": "stderr",
     "output_type": "stream",
     "text": [
      "D:\\anaconda3\\envs\\pytracking\\lib\\site-packages\\torchvision\\datasets\\mnist.py:55: UserWarning: train_data has been renamed data\n",
      "  warnings.warn(\"train_data has been renamed data\")\n",
      "D:\\anaconda3\\envs\\pytracking\\lib\\site-packages\\torchvision\\datasets\\mnist.py:50: UserWarning: test_labels has been renamed targets\n",
      "  warnings.warn(\"test_labels has been renamed targets\")\n"
     ]
    }
   ],
   "source": [
    "# 进行测试\n",
    "# 为节约时间，测试时只测试前2000个\n",
    "test_x = torch.unsqueeze(test_data.train_data, dim=1).type(torch.FloatTensor)[:2000] / 255 \n",
    "# torch.unsqueeze(a) 是用来对数据维度进行扩充，这样shape就从(2000,28,28)->(2000,1,28,28) \n",
    "# 图像的pixel本来是0到255之间，除以255对图像进行归一化使取值范围在(0,1)\n",
    "test_y = test_data.test_labels[:2000]"
   ]
  },
  {
   "cell_type": "code",
   "execution_count": 13,
   "id": "f60f955a",
   "metadata": {},
   "outputs": [],
   "source": [
    "# 批训练 32个samples， 1  channel，28x28 (50,1,28,28)\n",
    "# Torch中的DataLoader是用来包装数据的工具，它能帮我们有效迭代数据，这样就可以进行批训练\n",
    "train_loader = Data.DataLoader(\n",
    "    dataset=train_data,\n",
    "    batch_size=BATCH_SIZE,\n",
    "    shuffle=True  # 是否打乱数据，一般都打乱\n",
    ")"
   ]
  },
  {
   "cell_type": "code",
   "execution_count": 9,
   "id": "a540ebb1",
   "metadata": {},
   "outputs": [],
   "source": [
    "\n",
    "class CNN(nn.Module):  # 我们建立的CNN继承nn.Module这个模块\n",
    "    def __init__(self):\n",
    "        super(CNN, self).__init__()\n",
    "        # 建立第一个卷积(Conv2d)-> 激励函数(ReLU)->池化(MaxPooling)\n",
    "        self.conv1 = nn.Sequential(\n",
    "            # 第一个卷积con2d\n",
    "            nn.Conv2d(  # 输入图像大小(1,28,28)\n",
    "                in_channels=1,  # 输入图片的高度，因为minist数据集是灰度图像只有一个通道\n",
    "                out_channels=16,  # n_filters 卷积核的高度\n",
    "                kernel_size=5,  # filter size 卷积核的大小 也就是长x宽=5x5  3*3 3*3 3*3 1*3+3*1\n",
    "                stride=1,  # 步长\n",
    "                padding=2,  # 想要con2d输出的图片长宽不变，就进行补零操作 padding = (kernel_size-1)/2\n",
    "            ),  # 输出图像大小(16,28,28)\n",
    "            # 激活函数\n",
    "            nn.ReLU(), # Sigmoid\n",
    "            # 池化，下采样\n",
    "            nn.MaxPool2d(kernel_size=2),  # 在2x2空间下采样\n",
    "            # 输出图像大小(16,14,14)\n",
    "        )\n",
    "        # 建立第二个卷积(Conv2d)-> 激励函数(ReLU)->池化(MaxPooling)\n",
    "        self.conv2 = nn.Sequential(\n",
    "            # 输入图像大小(16,14,14)\n",
    "            nn.Conv2d(  # 也可以直接简化写成nn.Conv2d(16,32,5,1,2)\n",
    "                in_channels=16,\n",
    "                out_channels=32,\n",
    "                kernel_size=5,\n",
    "                stride=1,\n",
    "                padding=2\n",
    "            ),\n",
    "            # 输出图像大小 (32,14,14)\n",
    "            nn.ReLU(),\n",
    "            nn.MaxPool2d(2),\n",
    "            # 输出图像大小(32,7,7)\n",
    "        )\n",
    "        # 建立全卷积连接层\n",
    "        self.out = nn.Linear(32 * 7 * 7, 10)  # 输出是10个类\n",
    "\n",
    "         # Init weights\n",
    "        for m in self.modules():\n",
    "            if isinstance(m, nn.Conv2d):\n",
    "                n = m.kernel_size[0] * m.kernel_size[1] * m.out_channels\n",
    "                m.weight.data.normal_(0, math.sqrt(2. / n))\n",
    "                if m.bias is not None:\n",
    "                    m.bias.data.zero_()\n",
    "    # 下面定义x的传播路线\n",
    "    def forward(self, x):\n",
    "#         x = self.conv1(x)  # x先通过conv1\n",
    "#         x = self.conv2(x)  # 再通过conv2\n",
    "        x = self.conv2(self.conv1(x))# 32 7 7 1 32*7*7\n",
    "        # 把每一个批次的每一个输入都拉成一个维度，即(batch_size,32*7*7)\n",
    "        # 因为pytorch里特征的形式是[bs,channel,h,w]，所以x.size(0)就是batchsize\n",
    "        x = x.view(x.size(0), -1)  # view就是把x弄成batchsize行个tensor reshape view\n",
    "        output = self.out(x) #32 32*7*7\n",
    "        return output #32 * 10"
   ]
  },
  {
   "cell_type": "code",
   "execution_count": 10,
   "id": "2cf7a23d",
   "metadata": {},
   "outputs": [
    {
     "name": "stdout",
     "output_type": "stream",
     "text": [
      "CNN(\n",
      "  (conv1): Sequential(\n",
      "    (0): Conv2d(1, 16, kernel_size=(5, 5), stride=(1, 1), padding=(2, 2))\n",
      "    (1): ReLU()\n",
      "    (2): MaxPool2d(kernel_size=2, stride=2, padding=0, dilation=1, ceil_mode=False)\n",
      "  )\n",
      "  (conv2): Sequential(\n",
      "    (0): Conv2d(16, 32, kernel_size=(5, 5), stride=(1, 1), padding=(2, 2))\n",
      "    (1): ReLU()\n",
      "    (2): MaxPool2d(kernel_size=2, stride=2, padding=0, dilation=1, ceil_mode=False)\n",
      "  )\n",
      "  (out): Linear(in_features=1568, out_features=10, bias=True)\n",
      ")\n"
     ]
    }
   ],
   "source": [
    "cnn = CNN()\n",
    "print(cnn)"
   ]
  },
  {
   "cell_type": "code",
   "execution_count": 16,
   "id": "2c95251d",
   "metadata": {},
   "outputs": [],
   "source": [
    "def cnn_paras_count(net):\n",
    "    \"\"\"cnn参数量统计\"\"\"\n",
    "    # Find total parameters and trainable parameters\n",
    "    total_params = sum(p.numel() for p in net.parameters())\n",
    "    print(\"Number of total parameter: %.2fM\" % (total_params / 1e6))\n",
    "    total_trainable_params = sum(p.numel() for p in net.parameters() if p.requires_grad)\n",
    "    print(\"Number of trainable parameter: %.2fM\" % (total_trainable_params / 1e6))"
   ]
  },
  {
   "cell_type": "code",
   "execution_count": null,
   "id": "c11ece65",
   "metadata": {},
   "outputs": [],
   "source": [
    "cnn_paras_count(cnn)"
   ]
  },
  {
   "cell_type": "code",
   "execution_count": 26,
   "id": "03aa8f41",
   "metadata": {},
   "outputs": [],
   "source": [
    "# 训练\n",
    "# 把x和y 都放入Variable中，然后放入cnn中计算output，最后再计算误差"
   ]
  },
  {
   "cell_type": "code",
   "execution_count": 11,
   "id": "9f76c37a",
   "metadata": {},
   "outputs": [],
   "source": [
    "# 优化器选择Adam\n",
    "optimizer = torch.optim.Adam(cnn.parameters(), lr=LR) #SGD adam adamW \n",
    "# 损失函数 \n",
    "loss_func = nn.CrossEntropyLoss()  # 目标标签是one-hotted"
   ]
  },
  {
   "cell_type": "code",
   "execution_count": 15,
   "id": "7c2a9541",
   "metadata": {},
   "outputs": [
    {
     "name": "stdout",
     "output_type": "stream",
     "text": [
      "Epoch:  1 | train loss: 0.0472 | test accuracy: 0.98\n",
      "Epoch:  1 | train loss: 0.0193 | test accuracy: 0.98\n",
      "Epoch:  1 | train loss: 0.0020 | test accuracy: 0.98\n",
      "Epoch:  1 | train loss: 0.0137 | test accuracy: 0.98\n",
      "Epoch:  1 | train loss: 0.0138 | test accuracy: 0.98\n",
      "Epoch:  1 | train loss: 0.2101 | test accuracy: 0.98\n",
      "Epoch:  1 | train loss: 0.0018 | test accuracy: 0.98\n",
      "Epoch:  1 | train loss: 0.0199 | test accuracy: 0.98\n",
      "Epoch:  1 | train loss: 0.0940 | test accuracy: 0.98\n",
      "Epoch:  1 | train loss: 0.0203 | test accuracy: 0.98\n",
      "Epoch:  1 | train loss: 0.0210 | test accuracy: 0.98\n",
      "Epoch:  1 | train loss: 0.0264 | test accuracy: 0.98\n",
      "Epoch:  1 | train loss: 0.0623 | test accuracy: 0.98\n",
      "Epoch:  1 | train loss: 0.0578 | test accuracy: 0.98\n",
      "Epoch:  1 | train loss: 0.0376 | test accuracy: 0.98\n",
      "Epoch:  1 | train loss: 0.0381 | test accuracy: 0.98\n",
      "Epoch:  1 | train loss: 0.0327 | test accuracy: 0.98\n",
      "Epoch:  1 | train loss: 0.0269 | test accuracy: 0.98\n",
      "Epoch:  1 | train loss: 0.0186 | test accuracy: 0.98\n",
      "Epoch:  1 | train loss: 0.1976 | test accuracy: 0.97\n",
      "Epoch:  1 | train loss: 0.0999 | test accuracy: 0.98\n",
      "Epoch:  1 | train loss: 0.0922 | test accuracy: 0.98\n",
      "Epoch:  1 | train loss: 0.0212 | test accuracy: 0.99\n",
      "Epoch:  1 | train loss: 0.0105 | test accuracy: 0.98\n",
      "Epoch:  1 | train loss: 0.0472 | test accuracy: 0.98\n",
      "Epoch:  1 | train loss: 0.0888 | test accuracy: 0.98\n",
      "Epoch:  1 | train loss: 0.0035 | test accuracy: 0.97\n",
      "Epoch:  1 | train loss: 0.0041 | test accuracy: 0.98\n",
      "Epoch:  1 | train loss: 0.0028 | test accuracy: 0.98\n",
      "Epoch:  1 | train loss: 0.0133 | test accuracy: 0.98\n",
      "Epoch:  1 | train loss: 0.0154 | test accuracy: 0.98\n",
      "Epoch:  1 | train loss: 0.0147 | test accuracy: 0.98\n",
      "Epoch:  1 | train loss: 0.5019 | test accuracy: 0.98\n",
      "Epoch:  1 | train loss: 0.0035 | test accuracy: 0.98\n",
      "Epoch:  1 | train loss: 0.0442 | test accuracy: 0.98\n",
      "Epoch:  1 | train loss: 0.0146 | test accuracy: 0.98\n",
      "Epoch:  1 | train loss: 0.0430 | test accuracy: 0.98\n",
      "Epoch:  1 | train loss: 0.0203 | test accuracy: 0.98\n",
      "Epoch:  1 | train loss: 0.0568 | test accuracy: 0.98\n",
      "Epoch:  1 | train loss: 0.0630 | test accuracy: 0.98\n",
      "Epoch:  1 | train loss: 0.0445 | test accuracy: 0.99\n",
      "Epoch:  1 | train loss: 0.1075 | test accuracy: 0.99\n",
      "Epoch:  1 | train loss: 0.0383 | test accuracy: 0.99\n",
      "Epoch:  1 | train loss: 0.0025 | test accuracy: 0.98\n",
      "Epoch:  1 | train loss: 0.1087 | test accuracy: 0.99\n",
      "Epoch:  1 | train loss: 0.0111 | test accuracy: 0.99\n",
      "Epoch:  1 | train loss: 0.1200 | test accuracy: 0.99\n",
      "Epoch:  1 | train loss: 0.0301 | test accuracy: 0.98\n",
      "Epoch:  1 | train loss: 0.0078 | test accuracy: 0.98\n",
      "Epoch:  1 | train loss: 0.0752 | test accuracy: 0.99\n",
      "Epoch:  1 | train loss: 0.0383 | test accuracy: 0.99\n",
      "Epoch:  1 | train loss: 0.0205 | test accuracy: 0.98\n",
      "Epoch:  1 | train loss: 0.0252 | test accuracy: 0.98\n",
      "Epoch:  1 | train loss: 0.0031 | test accuracy: 0.99\n",
      "Epoch:  1 | train loss: 0.0155 | test accuracy: 0.99\n",
      "Epoch:  1 | train loss: 0.0041 | test accuracy: 0.98\n",
      "Epoch:  1 | train loss: 0.0095 | test accuracy: 0.99\n",
      "Epoch:  1 | train loss: 0.0072 | test accuracy: 0.99\n",
      "Epoch:  1 | train loss: 0.0035 | test accuracy: 0.98\n"
     ]
    }
   ],
   "source": [
    "#traing\n",
    "for epoch in range(EPOCH):\n",
    "    for step, (b_x, b_y) in enumerate(train_loader):  # 分配batch data\n",
    "        output = cnn(b_x)  # 先将数据放到cnn中计算output\n",
    "        loss = loss_func(output, b_y)  # 输出和真实标签的loss，二者位置不可颠倒\n",
    "        optimizer.zero_grad()  # 清除之前学到的梯度的参数\n",
    "        loss.backward()  # 反向传播，计算梯度\n",
    "        optimizer.step()  # 应用梯度\n",
    "\n",
    "        if step % 32 == 0:\n",
    "            test_output = cnn(test_x)\n",
    "            pred_y = torch.max(test_output, 1)[1].data.numpy()\n",
    "            accuracy = float((pred_y == test_y.data.numpy()).astype(int).sum()) / float(test_y.size(0))\n",
    "            print('Epoch: ', epoch+1, '| train loss: %.4f' % loss.data.numpy(), '| test accuracy: %.2f' % accuracy)\n",
    "\n",
    "torch.save(cnn.state_dict(), 'cnn.pkl')#保存模型"
   ]
  },
  {
   "cell_type": "code",
   "execution_count": 29,
   "id": "c3255425",
   "metadata": {},
   "outputs": [
    {
     "name": "stdout",
     "output_type": "stream",
     "text": [
      "[7 2 1 0 4 1 4 9 5 9 0 6 9 0 1 5 9 7 3 4 9 6 6 5 4 0 7 4 0 1 3 1] prediction number\n"
     ]
    },
    {
     "ename": "KeyboardInterrupt",
     "evalue": "",
     "output_type": "error",
     "traceback": [
      "\u001B[1;31m---------------------------------------------------------------------------\u001B[0m",
      "\u001B[1;31mKeyboardInterrupt\u001B[0m                         Traceback (most recent call last)",
      "\u001B[1;32m~\\AppData\\Local\\Temp\\ipykernel_11292\\1108653931.py\u001B[0m in \u001B[0;36m<module>\u001B[1;34m\u001B[0m\n\u001B[0;32m     17\u001B[0m \u001B[1;31m# img = img * std + mean\u001B[0m\u001B[1;33m\u001B[0m\u001B[1;33m\u001B[0m\u001B[1;33m\u001B[0m\u001B[0m\n\u001B[0;32m     18\u001B[0m \u001B[0mcv2\u001B[0m\u001B[1;33m.\u001B[0m\u001B[0mimshow\u001B[0m\u001B[1;33m(\u001B[0m\u001B[1;34m'win'\u001B[0m\u001B[1;33m,\u001B[0m \u001B[0mimg\u001B[0m\u001B[1;33m)\u001B[0m  \u001B[1;31m# opencv显示需要识别的数据图片\u001B[0m\u001B[1;33m\u001B[0m\u001B[1;33m\u001B[0m\u001B[0m\n\u001B[1;32m---> 19\u001B[1;33m \u001B[0mkey_pressed\u001B[0m \u001B[1;33m=\u001B[0m \u001B[0mcv2\u001B[0m\u001B[1;33m.\u001B[0m\u001B[0mwaitKey\u001B[0m\u001B[1;33m(\u001B[0m\u001B[1;36m0\u001B[0m\u001B[1;33m)\u001B[0m\u001B[1;33m\u001B[0m\u001B[1;33m\u001B[0m\u001B[0m\n\u001B[0m",
      "\u001B[1;31mKeyboardInterrupt\u001B[0m: "
     ]
    }
   ],
   "source": [
    "# 加载模型，调用时需将前面训练及保存模型的代码注释掉，否则会再训练一遍\n",
    "cnn.load_state_dict(torch.load('cnn.pkl'))\n",
    "cnn.eval()\n",
    "# print 10 predictions from test data\n",
    "inputs = test_x[:32]  # 测试32个数据\n",
    "test_output = cnn(inputs)\n",
    "pred_y = torch.max(test_output, 1)[1].data.numpy()\n",
    "print(pred_y, 'prediction number')  # 打印识别后的数字\n",
    "# print(test_y[:10].numpy(), 'real number')\n",
    "\n",
    "img = torchvision.utils.make_grid(inputs)\n",
    "img = img.numpy().transpose(1, 2, 0)\n",
    "\n",
    "# 下面三行为改变图片的亮度\n",
    "# std = [0.5, 0.5, 0.5]\n",
    "# mean = [0.5, 0.5, 0.5]\n",
    "# img = img * std + mean\n",
    "cv2.imshow('win', img)  # opencv显示需要识别的数据图片\n",
    "key_pressed = cv2.waitKey(0)"
   ]
  },
  {
   "cell_type": "code",
   "execution_count": null,
   "id": "c92064dd",
   "metadata": {},
   "outputs": [],
   "source": []
  }
 ],
 "metadata": {
  "kernelspec": {
   "display_name": "Python [conda env:pytracking]",
   "language": "python",
   "name": "pytracking"
  },
  "language_info": {
   "codemirror_mode": {
    "name": "ipython",
    "version": 3
   },
   "file_extension": ".py",
   "mimetype": "text/x-python",
   "name": "python",
   "nbconvert_exporter": "python",
   "pygments_lexer": "ipython3",
   "version": "3.7.11"
  }
 },
 "nbformat": 4,
 "nbformat_minor": 5
}